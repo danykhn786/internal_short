{
 "cells": [
  {
   "cell_type": "code",
   "execution_count": 1,
   "id": "48982240",
   "metadata": {},
   "outputs": [],
   "source": [
    "import pandas as pd \n",
    "import numpy as np\n",
    "import matplotlib.pyplot as plt"
   ]
  },
  {
   "cell_type": "code",
   "execution_count": 14,
   "id": "e63d328d",
   "metadata": {},
   "outputs": [],
   "source": [
    "df = pd.read_csv(r\"CSV/mobile_events_2020.csv\",sep=';')"
   ]
  },
  {
   "cell_type": "code",
   "execution_count": 15,
   "id": "3670b446",
   "metadata": {},
   "outputs": [
    {
     "data": {
      "text/html": [
       "<div>\n",
       "<style scoped>\n",
       "    .dataframe tbody tr th:only-of-type {\n",
       "        vertical-align: middle;\n",
       "    }\n",
       "\n",
       "    .dataframe tbody tr th {\n",
       "        vertical-align: top;\n",
       "    }\n",
       "\n",
       "    .dataframe thead th {\n",
       "        text-align: right;\n",
       "    }\n",
       "</style>\n",
       "<table border=\"1\" class=\"dataframe\">\n",
       "  <thead>\n",
       "    <tr style=\"text-align: right;\">\n",
       "      <th></th>\n",
       "      <th>anonymous_id</th>\n",
       "      <th>business_zoned</th>\n",
       "      <th>context_app_version</th>\n",
       "      <th>context_device_id</th>\n",
       "      <th>context_os_name</th>\n",
       "      <th>event_name</th>\n",
       "      <th>received_at</th>\n",
       "      <th>created_at</th>\n",
       "    </tr>\n",
       "  </thead>\n",
       "  <tbody>\n",
       "    <tr>\n",
       "      <th>0</th>\n",
       "      <td>9DDC5BCD-0477-4E83-A32A-51013DA0A4E7</td>\n",
       "      <td>Hamburg</td>\n",
       "      <td>3.1.13</td>\n",
       "      <td>7A718FF6-584F-40E2-939D-224231295B1E</td>\n",
       "      <td>iOS</td>\n",
       "      <td>Out-Of-Business Zone View Shown</td>\n",
       "      <td>2020-09-01 23:59:44</td>\n",
       "      <td>2020-09-01 23:59:18</td>\n",
       "    </tr>\n",
       "    <tr>\n",
       "      <th>1</th>\n",
       "      <td>5592E78E-CE87-4258-B8D7-DD834A687A1E</td>\n",
       "      <td>Hamburg</td>\n",
       "      <td>3.1.13</td>\n",
       "      <td>11D0CB16-DA38-4565-9C3B-066E7877856C</td>\n",
       "      <td>iOS</td>\n",
       "      <td>Application Opened</td>\n",
       "      <td>2020-09-01 23:59:41</td>\n",
       "      <td>2020-09-01 23:59:35</td>\n",
       "    </tr>\n",
       "    <tr>\n",
       "      <th>2</th>\n",
       "      <td>5592E78E-CE87-4258-B8D7-DD834A687A1E</td>\n",
       "      <td>Hamburg</td>\n",
       "      <td>3.1.13</td>\n",
       "      <td>11D0CB16-DA38-4565-9C3B-066E7877856C</td>\n",
       "      <td>iOS</td>\n",
       "      <td>Ride Done - Successful</td>\n",
       "      <td>2020-09-01 23:59:41</td>\n",
       "      <td>2020-09-01 23:59:37</td>\n",
       "    </tr>\n",
       "    <tr>\n",
       "      <th>3</th>\n",
       "      <td>5592E78E-CE87-4258-B8D7-DD834A687A1E</td>\n",
       "      <td>Hamburg</td>\n",
       "      <td>3.1.13</td>\n",
       "      <td>11D0CB16-DA38-4565-9C3B-066E7877856C</td>\n",
       "      <td>iOS</td>\n",
       "      <td>Application Opened</td>\n",
       "      <td>2020-09-01 23:59:36</td>\n",
       "      <td>2020-09-01 23:37:46</td>\n",
       "    </tr>\n",
       "    <tr>\n",
       "      <th>4</th>\n",
       "      <td>5592E78E-CE87-4258-B8D7-DD834A687A1E</td>\n",
       "      <td>Hamburg</td>\n",
       "      <td>3.1.13</td>\n",
       "      <td>11D0CB16-DA38-4565-9C3B-066E7877856C</td>\n",
       "      <td>iOS</td>\n",
       "      <td>Ride Done - Unsuccessful</td>\n",
       "      <td>2020-09-01 23:59:36</td>\n",
       "      <td>2020-09-01 23:37:52</td>\n",
       "    </tr>\n",
       "  </tbody>\n",
       "</table>\n",
       "</div>"
      ],
      "text/plain": [
       "                           anonymous_id business_zoned context_app_version  \\\n",
       "0  9DDC5BCD-0477-4E83-A32A-51013DA0A4E7        Hamburg              3.1.13   \n",
       "1  5592E78E-CE87-4258-B8D7-DD834A687A1E        Hamburg              3.1.13   \n",
       "2  5592E78E-CE87-4258-B8D7-DD834A687A1E        Hamburg              3.1.13   \n",
       "3  5592E78E-CE87-4258-B8D7-DD834A687A1E        Hamburg              3.1.13   \n",
       "4  5592E78E-CE87-4258-B8D7-DD834A687A1E        Hamburg              3.1.13   \n",
       "\n",
       "                      context_device_id context_os_name  \\\n",
       "0  7A718FF6-584F-40E2-939D-224231295B1E             iOS   \n",
       "1  11D0CB16-DA38-4565-9C3B-066E7877856C             iOS   \n",
       "2  11D0CB16-DA38-4565-9C3B-066E7877856C             iOS   \n",
       "3  11D0CB16-DA38-4565-9C3B-066E7877856C             iOS   \n",
       "4  11D0CB16-DA38-4565-9C3B-066E7877856C             iOS   \n",
       "\n",
       "                        event_name          received_at           created_at  \n",
       "0  Out-Of-Business Zone View Shown  2020-09-01 23:59:44  2020-09-01 23:59:18  \n",
       "1               Application Opened  2020-09-01 23:59:41  2020-09-01 23:59:35  \n",
       "2           Ride Done - Successful  2020-09-01 23:59:41  2020-09-01 23:59:37  \n",
       "3               Application Opened  2020-09-01 23:59:36  2020-09-01 23:37:46  \n",
       "4         Ride Done - Unsuccessful  2020-09-01 23:59:36  2020-09-01 23:37:52  "
      ]
     },
     "execution_count": 15,
     "metadata": {},
     "output_type": "execute_result"
    }
   ],
   "source": [
    "df.head()"
   ]
  },
  {
   "cell_type": "code",
   "execution_count": 16,
   "id": "91f53626",
   "metadata": {},
   "outputs": [
    {
     "name": "stdout",
     "output_type": "stream",
     "text": [
      "['anonymous_id', 'business_zoned', 'context_app_version', 'context_device_id', 'context_os_name', 'event_name', 'received_at', 'created_at']\n"
     ]
    }
   ],
   "source": [
    "print(df.columns.tolist())"
   ]
  },
  {
   "cell_type": "code",
   "execution_count": 25,
   "id": "15d55827",
   "metadata": {},
   "outputs": [
    {
     "data": {
      "text/plain": [
       "Application Opened                     26047\n",
       "Scooter Selected - Auto                 8735\n",
       "Scooter Selected - User                 6999\n",
       "Ride Started - Pre-Ride                 6693\n",
       "Ride Done - Successful                  5165\n",
       "                                       ...  \n",
       "Paypal Dialogue - Cancel Pressed          18\n",
       "Customer Blocked - Phone Validation       16\n",
       "Paypal Error Shown                        10\n",
       "Location Services Dialogue Opened          8\n",
       "Location Services Enabled                  8\n",
       "Name: event_name, Length: 61, dtype: int64"
      ]
     },
     "execution_count": 25,
     "metadata": {},
     "output_type": "execute_result"
    }
   ],
   "source": [
    "df['event_name'].value_counts()"
   ]
  },
  {
   "cell_type": "code",
   "execution_count": 30,
   "id": "b00cfce3",
   "metadata": {},
   "outputs": [
    {
     "name": "stdout",
     "output_type": "stream",
     "text": [
      "The percentage of sessions with an intention to book a scooter is: 26.94%\n"
     ]
    }
   ],
   "source": [
    "scooter_event_names = [\n",
    "    'Scooter Selected - Auto',\n",
    "    'Scooter Selected - User',\n",
    "    'Ride Started - Pre-Ride',\n",
    "    'Ride Done - Successful'\n",
    "]\n",
    "filter_condition = df['event_name'].isin(scooter_event_names)\n",
    "percentage = (filter_condition.sum() / len(df)) * 100\n",
    "print(f\"The percentage of sessions with an intention to book a scooter is: {percentage:.2f}%\")"
   ]
  },
  {
   "cell_type": "code",
   "execution_count": 29,
   "id": "c63ca37a",
   "metadata": {},
   "outputs": [
    {
     "name": "stdout",
     "output_type": "stream",
     "text": [
      "The percentage of sessions with a successful booking is: 5.04%\n"
     ]
    }
   ],
   "source": [
    "successful_booking_event_name = 'Ride Done - Successful'\n",
    "filter_condition = df['event_name'] == successful_booking_event_name\n",
    "percentage = (filter_condition.sum() / len(df)) * 100\n",
    "print(f\"The percentage of sessions with a successful booking is: {percentage:.2f}%\")"
   ]
  },
  {
   "cell_type": "code",
   "execution_count": null,
   "id": "8165836e",
   "metadata": {},
   "outputs": [],
   "source": []
  }
 ],
 "metadata": {
  "kernelspec": {
   "display_name": "Python 3 (ipykernel)",
   "language": "python",
   "name": "python3"
  },
  "language_info": {
   "codemirror_mode": {
    "name": "ipython",
    "version": 3
   },
   "file_extension": ".py",
   "mimetype": "text/x-python",
   "name": "python",
   "nbconvert_exporter": "python",
   "pygments_lexer": "ipython3",
   "version": "3.11.3"
  }
 },
 "nbformat": 4,
 "nbformat_minor": 5
}
